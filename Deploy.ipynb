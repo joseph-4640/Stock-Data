{
 "cells": [
  {
   "cell_type": "markdown",
   "metadata": {},
   "source": [
    "MODEL DEPLOYMENT"
   ]
  },
  {
   "cell_type": "markdown",
   "metadata": {},
   "source": [
    "GOALS\n",
    "1. Create a Garch Model class with methods of wrangling data, training, predicting, serving and loading models.\n",
    "2. Build web API using Fast API and uvicorn.\n",
    "3. Build data classes for API using pydantic\n",
    "4. Create API paths for training model and serving p"
   ]
  }
 ],
 "metadata": {
  "language_info": {
   "name": "python"
  }
 },
 "nbformat": 4,
 "nbformat_minor": 2
}
