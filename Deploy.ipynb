{
 "cells": [
  {
   "cell_type": "markdown",
   "metadata": {},
   "source": [
    "MODEL DEPLOYMENT"
   ]
  },
  {
   "cell_type": "markdown",
   "metadata": {},
   "source": [
    "GOALS\n",
    "1. Create a Garch Model class with methods of wrangling data, training, predicting, serving and loading models.\n",
    "2. Build web API using Fast API and uvicorn.\n",
    "3. Build data classes for API using pydantic\n",
    "4. Create API paths for training model and serving predictions."
   ]
  },
  {
   "cell_type": "code",
   "execution_count": 1,
   "metadata": {},
   "outputs": [],
   "source": [
    "# Load the SQL extension\n",
    "%load_ext sql\n",
    "\n",
    "# Connect to your SQLite database\n",
    "%sql sqlite:////home/denis/Stock-Data/sqlite.db\n",
    "\n",
    "import pandas as pd\n",
    "import sqlite3\n",
    "import os\n",
    "from glob import glob\n",
    "import joblib\n",
    "from glob import glob\n",
    "import requests\n",
    "from data import SQLRepository\n",
    "from arch.univariate.base import ARCHModelResult"
   ]
  },
  {
   "cell_type": "markdown",
   "metadata": {},
   "source": [
    "Connect to Database"
   ]
  },
  {
   "cell_type": "code",
   "execution_count": 2,
   "metadata": {},
   "outputs": [],
   "source": [
    "# Connect to database\n",
    "connection = sqlite3.connect(\"/home/denis/Stock-Data/sqlite.db\", check_same_thread=False)\n",
    "\n",
    "# Create an isnstace of the SQLRepository class\n",
    "repo = SQLRepository(connection=connection)\n"
   ]
  },
  {
   "cell_type": "markdown",
   "metadata": {},
   "source": [
    "GARCH MODEL CLASS"
   ]
  },
  {
   "cell_type": "code",
   "execution_count": 3,
   "metadata": {},
   "outputs": [],
   "source": [
    "from model import GarchModel\n",
    "from settings import model_directory\n",
    "\n",
    "# Instantiate a \"Garch Model class\"\n",
    "gm_apple = GarchModel(ticker=\"AAPL\", repo=repo, use_new_data=False)"
   ]
  },
  {
   "cell_type": "markdown",
   "metadata": {},
   "source": [
    "Garch Model Class: Wrangle Method"
   ]
  },
  {
   "cell_type": "code",
   "execution_count": 4,
   "metadata": {},
   "outputs": [
    {
     "data": {
      "text/plain": [
       "date\n",
       "2024-09-26    0.508018\n",
       "2024-09-27    0.118671\n",
       "2024-09-30    2.287194\n",
       "2024-10-01   -2.914163\n",
       "2024-10-02    0.251978\n",
       "Name: return, dtype: float64"
      ]
     },
     "execution_count": 4,
     "metadata": {},
     "output_type": "execute_result"
    }
   ],
   "source": [
    "# Instantiate Garch Model, use new data\n",
    "model_apple = GarchModel(ticker=\"AAPL\", repo=repo, use_new_data=True)\n",
    "\n",
    "# Wrange data\n",
    "model_apple.wrangle_data(n_observations=2000)\n",
    "\n",
    "model_apple.data.tail()"
   ]
  },
  {
   "cell_type": "markdown",
   "metadata": {},
   "source": [
    "Garch Model Class: Fit Methood"
   ]
  },
  {
   "cell_type": "code",
   "execution_count": 5,
   "metadata": {},
   "outputs": [
    {
     "data": {
      "text/html": [
       "<table class=\"simpletable\">\n",
       "<caption>Constant Mean - GARCH Model Results</caption>\n",
       "<tr>\n",
       "  <th>Dep. Variable:</th>       <td>return</td>       <th>  R-squared:         </th>  <td>   0.000</td> \n",
       "</tr>\n",
       "<tr>\n",
       "  <th>Mean Model:</th>       <td>Constant Mean</td>   <th>  Adj. R-squared:    </th>  <td>   0.000</td> \n",
       "</tr>\n",
       "<tr>\n",
       "  <th>Vol Model:</th>            <td>GARCH</td>       <th>  Log-Likelihood:    </th> <td>  -5287.88</td>\n",
       "</tr>\n",
       "<tr>\n",
       "  <th>Distribution:</th>        <td>Normal</td>       <th>  AIC:               </th> <td>   10583.8</td>\n",
       "</tr>\n",
       "<tr>\n",
       "  <th>Method:</th>        <td>Maximum Likelihood</td> <th>  BIC:               </th> <td>   10607.1</td>\n",
       "</tr>\n",
       "<tr>\n",
       "  <th></th>                        <td></td>          <th>  No. Observations:  </th>    <td>2500</td>   \n",
       "</tr>\n",
       "<tr>\n",
       "  <th>Date:</th>           <td>Thu, Oct 03 2024</td>  <th>  Df Residuals:      </th>    <td>2499</td>   \n",
       "</tr>\n",
       "<tr>\n",
       "  <th>Time:</th>               <td>09:52:43</td>      <th>  Df Model:          </th>      <td>1</td>    \n",
       "</tr>\n",
       "</table>\n",
       "<table class=\"simpletable\">\n",
       "<caption>Mean Model</caption>\n",
       "<tr>\n",
       "   <td></td>     <th>coef</th>     <th>std err</th>      <th>t</th>       <th>P>|t|</th>   <th>95.0% Conf. Int.</th> \n",
       "</tr>\n",
       "<tr>\n",
       "  <th>mu</th> <td>    0.0310</td> <td>7.753e-02</td> <td>    0.399</td> <td>    0.690</td> <td>[ -0.121,  0.183]</td>\n",
       "</tr>\n",
       "</table>\n",
       "<table class=\"simpletable\">\n",
       "<caption>Volatility Model</caption>\n",
       "<tr>\n",
       "      <td></td>        <th>coef</th>     <th>std err</th>      <th>t</th>       <th>P>|t|</th>     <th>95.0% Conf. Int.</th>   \n",
       "</tr>\n",
       "<tr>\n",
       "  <th>omega</th>    <td>    0.0499</td> <td>    0.186</td> <td>    0.268</td> <td>    0.789</td>   <td>[ -0.315,  0.415]</td>  \n",
       "</tr>\n",
       "<tr>\n",
       "  <th>alpha[1]</th> <td>    0.0649</td> <td>1.710e-02</td> <td>    3.794</td> <td>1.484e-04</td> <td>[3.136e-02,9.839e-02]</td>\n",
       "</tr>\n",
       "<tr>\n",
       "  <th>beta[1]</th>  <td>    0.9351</td> <td>8.204e-02</td> <td>   11.398</td> <td>4.257e-30</td>   <td>[  0.774,  1.096]</td>  \n",
       "</tr>\n",
       "</table><br/><br/>Covariance estimator: robust"
      ],
      "text/latex": [
       "\\begin{center}\n",
       "\\begin{tabular}{lclc}\n",
       "\\toprule\n",
       "\\textbf{Dep. Variable:} &       return       & \\textbf{  R-squared:         } &     0.000   \\\\\n",
       "\\textbf{Mean Model:}    &   Constant Mean    & \\textbf{  Adj. R-squared:    } &     0.000   \\\\\n",
       "\\textbf{Vol Model:}     &       GARCH        & \\textbf{  Log-Likelihood:    } &   -5287.88  \\\\\n",
       "\\textbf{Distribution:}  &       Normal       & \\textbf{  AIC:               } &    10583.8  \\\\\n",
       "\\textbf{Method:}        & Maximum Likelihood & \\textbf{  BIC:               } &    10607.1  \\\\\n",
       "\\textbf{}               &                    & \\textbf{  No. Observations:  } &    2500     \\\\\n",
       "\\textbf{Date:}          &  Thu, Oct 03 2024  & \\textbf{  Df Residuals:      } &    2499     \\\\\n",
       "\\textbf{Time:}          &      09:52:43      & \\textbf{  Df Model:          } &     1       \\\\\n",
       "\\bottomrule\n",
       "\\end{tabular}\n",
       "\\begin{tabular}{lccccc}\n",
       "            & \\textbf{coef} & \\textbf{std err} & \\textbf{t} & \\textbf{P$> |$t$|$} & \\textbf{95.0\\% Conf. Int.}  \\\\\n",
       "\\midrule\n",
       "\\textbf{mu} &       0.0310  &    7.753e-02     &     0.399  &          0.690       &     [ -0.121,  0.183]       \\\\\n",
       "                  & \\textbf{coef} & \\textbf{std err} & \\textbf{t} & \\textbf{P$> |$t$|$} & \\textbf{95.0\\% Conf. Int.}  \\\\\n",
       "\\midrule\n",
       "\\textbf{omega}    &       0.0499  &        0.186     &     0.268  &          0.789       &     [ -0.315,  0.415]       \\\\\n",
       "\\textbf{alpha[1]} &       0.0649  &    1.710e-02     &     3.794  &      1.484e-04       &   [3.136e-02,9.839e-02]     \\\\\n",
       "\\textbf{beta[1]}  &       0.9351  &    8.204e-02     &    11.398  &      4.257e-30       &     [  0.774,  1.096]       \\\\\n",
       "\\bottomrule\n",
       "\\end{tabular}\n",
       "%\\caption{Constant Mean - GARCH Model Results}\n",
       "\\end{center}\n",
       "\n",
       "Covariance estimator: robust"
      ],
      "text/plain": [
       "<class 'statsmodels.iolib.summary.Summary'>\n",
       "\"\"\"\n",
       "                     Constant Mean - GARCH Model Results                      \n",
       "==============================================================================\n",
       "Dep. Variable:                 return   R-squared:                       0.000\n",
       "Mean Model:             Constant Mean   Adj. R-squared:                  0.000\n",
       "Vol Model:                      GARCH   Log-Likelihood:               -5287.88\n",
       "Distribution:                  Normal   AIC:                           10583.8\n",
       "Method:            Maximum Likelihood   BIC:                           10607.1\n",
       "                                        No. Observations:                 2500\n",
       "Date:                Thu, Oct 03 2024   Df Residuals:                     2499\n",
       "Time:                        09:52:43   Df Model:                            1\n",
       "                               Mean Model                               \n",
       "========================================================================\n",
       "                 coef    std err          t      P>|t|  95.0% Conf. Int.\n",
       "------------------------------------------------------------------------\n",
       "mu             0.0310  7.753e-02      0.399      0.690 [ -0.121,  0.183]\n",
       "                              Volatility Model                              \n",
       "============================================================================\n",
       "                 coef    std err          t      P>|t|      95.0% Conf. Int.\n",
       "----------------------------------------------------------------------------\n",
       "omega          0.0499      0.186      0.268      0.789     [ -0.315,  0.415]\n",
       "alpha[1]       0.0649  1.710e-02      3.794  1.484e-04 [3.136e-02,9.839e-02]\n",
       "beta[1]        0.9351  8.204e-02     11.398  4.257e-30     [  0.774,  1.096]\n",
       "============================================================================\n",
       "\n",
       "Covariance estimator: robust\n",
       "\"\"\""
      ]
     },
     "execution_count": 5,
     "metadata": {},
     "output_type": "execute_result"
    }
   ],
   "source": [
    "# Instantiate model, use old data\n",
    "model_apple = GarchModel(ticker=\"AAPL\", repo=repo, use_new_data=False)\n",
    "\n",
    "# Wrangle data\n",
    "model_apple.wrangle_data(n_observations=2500)\n",
    "\n",
    "# Fit Garch(1, 1) model\n",
    "model_apple.fit(p=1, q=1)\n",
    "\n",
    "# Check model paramaters\n",
    "model_apple.model.summary()"
   ]
  },
  {
   "cell_type": "markdown",
   "metadata": {},
   "source": [
    "Garch Model Class: Predict Volatility Method"
   ]
  },
  {
   "cell_type": "code",
   "execution_count": 6,
   "metadata": {},
   "outputs": [
    {
     "data": {
      "text/plain": [
       "2024-10-03T00:00:00    1.316166\n",
       "2024-10-04T00:00:00    1.321604\n",
       "2024-10-07T00:00:00    1.326975\n",
       "2024-10-08T00:00:00    1.332282\n",
       "2024-10-09T00:00:00    1.337526\n",
       "dtype: float64"
      ]
     },
     "execution_count": 6,
     "metadata": {},
     "output_type": "execute_result"
    }
   ],
   "source": [
    "prediction = model_apple.predict_volatility(horizon=5)\n",
    "prediction"
   ]
  },
  {
   "cell_type": "markdown",
   "metadata": {},
   "source": [
    "Garch Model Class: Dump Method"
   ]
  },
  {
   "cell_type": "code",
   "execution_count": 7,
   "metadata": {},
   "outputs": [],
   "source": [
    "# Save \"model_apple\" model , asigning filename\n",
    "filename = model_apple.dump()"
   ]
  },
  {
   "cell_type": "markdown",
   "metadata": {},
   "source": [
    "Garch Model Class: Load Method"
   ]
  },
  {
   "cell_type": "code",
   "execution_count": 8,
   "metadata": {},
   "outputs": [
    {
     "data": {
      "text/html": [
       "<table class=\"simpletable\">\n",
       "<caption>Constant Mean - GARCH Model Results</caption>\n",
       "<tr>\n",
       "  <th>Dep. Variable:</th>       <td>return</td>       <th>  R-squared:         </th>  <td>   0.000</td> \n",
       "</tr>\n",
       "<tr>\n",
       "  <th>Mean Model:</th>       <td>Constant Mean</td>   <th>  Adj. R-squared:    </th>  <td>   0.000</td> \n",
       "</tr>\n",
       "<tr>\n",
       "  <th>Vol Model:</th>            <td>GARCH</td>       <th>  Log-Likelihood:    </th> <td>  -5287.88</td>\n",
       "</tr>\n",
       "<tr>\n",
       "  <th>Distribution:</th>        <td>Normal</td>       <th>  AIC:               </th> <td>   10583.8</td>\n",
       "</tr>\n",
       "<tr>\n",
       "  <th>Method:</th>        <td>Maximum Likelihood</td> <th>  BIC:               </th> <td>   10607.1</td>\n",
       "</tr>\n",
       "<tr>\n",
       "  <th></th>                        <td></td>          <th>  No. Observations:  </th>    <td>2500</td>   \n",
       "</tr>\n",
       "<tr>\n",
       "  <th>Date:</th>           <td>Thu, Oct 03 2024</td>  <th>  Df Residuals:      </th>    <td>2499</td>   \n",
       "</tr>\n",
       "<tr>\n",
       "  <th>Time:</th>               <td>09:52:43</td>      <th>  Df Model:          </th>      <td>1</td>    \n",
       "</tr>\n",
       "</table>\n",
       "<table class=\"simpletable\">\n",
       "<caption>Mean Model</caption>\n",
       "<tr>\n",
       "   <td></td>     <th>coef</th>     <th>std err</th>      <th>t</th>       <th>P>|t|</th>   <th>95.0% Conf. Int.</th> \n",
       "</tr>\n",
       "<tr>\n",
       "  <th>mu</th> <td>    0.0310</td> <td>7.753e-02</td> <td>    0.399</td> <td>    0.690</td> <td>[ -0.121,  0.183]</td>\n",
       "</tr>\n",
       "</table>\n",
       "<table class=\"simpletable\">\n",
       "<caption>Volatility Model</caption>\n",
       "<tr>\n",
       "      <td></td>        <th>coef</th>     <th>std err</th>      <th>t</th>       <th>P>|t|</th>     <th>95.0% Conf. Int.</th>   \n",
       "</tr>\n",
       "<tr>\n",
       "  <th>omega</th>    <td>    0.0499</td> <td>    0.186</td> <td>    0.268</td> <td>    0.789</td>   <td>[ -0.315,  0.415]</td>  \n",
       "</tr>\n",
       "<tr>\n",
       "  <th>alpha[1]</th> <td>    0.0649</td> <td>1.710e-02</td> <td>    3.794</td> <td>1.484e-04</td> <td>[3.136e-02,9.839e-02]</td>\n",
       "</tr>\n",
       "<tr>\n",
       "  <th>beta[1]</th>  <td>    0.9351</td> <td>8.204e-02</td> <td>   11.398</td> <td>4.257e-30</td>   <td>[  0.774,  1.096]</td>  \n",
       "</tr>\n",
       "</table><br/><br/>Covariance estimator: robust"
      ],
      "text/latex": [
       "\\begin{center}\n",
       "\\begin{tabular}{lclc}\n",
       "\\toprule\n",
       "\\textbf{Dep. Variable:} &       return       & \\textbf{  R-squared:         } &     0.000   \\\\\n",
       "\\textbf{Mean Model:}    &   Constant Mean    & \\textbf{  Adj. R-squared:    } &     0.000   \\\\\n",
       "\\textbf{Vol Model:}     &       GARCH        & \\textbf{  Log-Likelihood:    } &   -5287.88  \\\\\n",
       "\\textbf{Distribution:}  &       Normal       & \\textbf{  AIC:               } &    10583.8  \\\\\n",
       "\\textbf{Method:}        & Maximum Likelihood & \\textbf{  BIC:               } &    10607.1  \\\\\n",
       "\\textbf{}               &                    & \\textbf{  No. Observations:  } &    2500     \\\\\n",
       "\\textbf{Date:}          &  Thu, Oct 03 2024  & \\textbf{  Df Residuals:      } &    2499     \\\\\n",
       "\\textbf{Time:}          &      09:52:43      & \\textbf{  Df Model:          } &     1       \\\\\n",
       "\\bottomrule\n",
       "\\end{tabular}\n",
       "\\begin{tabular}{lccccc}\n",
       "            & \\textbf{coef} & \\textbf{std err} & \\textbf{t} & \\textbf{P$> |$t$|$} & \\textbf{95.0\\% Conf. Int.}  \\\\\n",
       "\\midrule\n",
       "\\textbf{mu} &       0.0310  &    7.753e-02     &     0.399  &          0.690       &     [ -0.121,  0.183]       \\\\\n",
       "                  & \\textbf{coef} & \\textbf{std err} & \\textbf{t} & \\textbf{P$> |$t$|$} & \\textbf{95.0\\% Conf. Int.}  \\\\\n",
       "\\midrule\n",
       "\\textbf{omega}    &       0.0499  &        0.186     &     0.268  &          0.789       &     [ -0.315,  0.415]       \\\\\n",
       "\\textbf{alpha[1]} &       0.0649  &    1.710e-02     &     3.794  &      1.484e-04       &   [3.136e-02,9.839e-02]     \\\\\n",
       "\\textbf{beta[1]}  &       0.9351  &    8.204e-02     &    11.398  &      4.257e-30       &     [  0.774,  1.096]       \\\\\n",
       "\\bottomrule\n",
       "\\end{tabular}\n",
       "%\\caption{Constant Mean - GARCH Model Results}\n",
       "\\end{center}\n",
       "\n",
       "Covariance estimator: robust"
      ],
      "text/plain": [
       "<class 'statsmodels.iolib.summary.Summary'>\n",
       "\"\"\"\n",
       "                     Constant Mean - GARCH Model Results                      \n",
       "==============================================================================\n",
       "Dep. Variable:                 return   R-squared:                       0.000\n",
       "Mean Model:             Constant Mean   Adj. R-squared:                  0.000\n",
       "Vol Model:                      GARCH   Log-Likelihood:               -5287.88\n",
       "Distribution:                  Normal   AIC:                           10583.8\n",
       "Method:            Maximum Likelihood   BIC:                           10607.1\n",
       "                                        No. Observations:                 2500\n",
       "Date:                Thu, Oct 03 2024   Df Residuals:                     2499\n",
       "Time:                        09:52:43   Df Model:                            1\n",
       "                               Mean Model                               \n",
       "========================================================================\n",
       "                 coef    std err          t      P>|t|  95.0% Conf. Int.\n",
       "------------------------------------------------------------------------\n",
       "mu             0.0310  7.753e-02      0.399      0.690 [ -0.121,  0.183]\n",
       "                              Volatility Model                              \n",
       "============================================================================\n",
       "                 coef    std err          t      P>|t|      95.0% Conf. Int.\n",
       "----------------------------------------------------------------------------\n",
       "omega          0.0499      0.186      0.268      0.789     [ -0.315,  0.415]\n",
       "alpha[1]       0.0649  1.710e-02      3.794  1.484e-04 [3.136e-02,9.839e-02]\n",
       "beta[1]        0.9351  8.204e-02     11.398  4.257e-30     [  0.774,  1.096]\n",
       "============================================================================\n",
       "\n",
       "Covariance estimator: robust\n",
       "\"\"\""
      ]
     },
     "execution_count": 8,
     "metadata": {},
     "output_type": "execute_result"
    }
   ],
   "source": [
    "model_apple = GarchModel(ticker=\"AAPL\", repo=repo, use_new_data=False)\n",
    "\n",
    "# Load model\n",
    "model_apple.load()\n",
    "\n",
    "model_apple.model.summary()"
   ]
  },
  {
   "cell_type": "code",
   "execution_count": null,
   "metadata": {},
   "outputs": [],
   "source": []
  }
 ],
 "metadata": {
  "kernelspec": {
   "display_name": "Python 3",
   "language": "python",
   "name": "python3"
  },
  "language_info": {
   "codemirror_mode": {
    "name": "ipython",
    "version": 3
   },
   "file_extension": ".py",
   "mimetype": "text/x-python",
   "name": "python",
   "nbconvert_exporter": "python",
   "pygments_lexer": "ipython3",
   "version": "3.10.12"
  }
 },
 "nbformat": 4,
 "nbformat_minor": 2
}
