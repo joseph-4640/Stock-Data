{
 "cells": [
  {
   "cell_type": "markdown",
   "metadata": {},
   "source": [
    "GETTING DATA FROM API's"
   ]
  },
  {
   "cell_type": "markdown",
   "metadata": {},
   "source": [
    "GOALS\n",
    "1. Extract stock data from AlphaVantage API using HTTP requests.\n",
    "2. Write a function for transforming stock data"
   ]
  },
  {
   "cell_type": "code",
   "execution_count": 1,
   "metadata": {},
   "outputs": [],
   "source": [
    "import pandas as pd\n",
    "import requests"
   ]
  },
  {
   "cell_type": "markdown",
   "metadata": {},
   "source": [
    "Accesing API's through URL"
   ]
  },
  {
   "cell_type": "code",
   "execution_count": 2,
   "metadata": {},
   "outputs": [],
   "source": [
    "api_key = \"PGPVDW57277TSFM3\""
   ]
  },
  {
   "cell_type": "markdown",
   "metadata": {},
   "source": [
    "URL for Alibaba Limited Company"
   ]
  },
  {
   "cell_type": "code",
   "execution_count": 3,
   "metadata": {},
   "outputs": [
    {
     "name": "stdout",
     "output_type": "stream",
     "text": [
      "url type: <class 'str'>\n"
     ]
    },
    {
     "data": {
      "text/plain": [
       "'https://www.alphavantage.co/query?function=TIME_SERIES_DAILY&symbol=BABA&outputsize=compact&datatype=json&apikey=PGPVDW57277TSFM3'"
      ]
     },
     "execution_count": 3,
     "metadata": {},
     "output_type": "execute_result"
    }
   ],
   "source": [
    "ticker = \"BABA\"\n",
    "output_size = \"compact\"\n",
    "data_type = \"json\"\n",
    "\n",
    "url = (\n",
    "    \"https://www.alphavantage.co/query?\"\n",
    "    \"function=TIME_SERIES_DAILY&\"\n",
    "    f\"symbol={ticker}&\"\n",
    "    f\"outputsize={output_size}&\"\n",
    "    f\"datatype={data_type}&\"\n",
    "    f\"apikey={api_key}\"\n",
    ")\n",
    "print(\"url type:\", type(url))\n",
    "url"
   ]
  },
  {
   "cell_type": "markdown",
   "metadata": {},
   "source": [
    "Accessing API's through a Request"
   ]
  },
  {
   "cell_type": "code",
   "execution_count": 4,
   "metadata": {},
   "outputs": [
    {
     "name": "stdout",
     "output_type": "stream",
     "text": [
      "response type: <class 'requests.models.Response'>\n"
     ]
    }
   ],
   "source": [
    "response = requests.get(url=url)\n",
    "print(\"response type:\", type(response))"
   ]
  },
  {
   "cell_type": "markdown",
   "metadata": {},
   "source": [
    "Response Attributes"
   ]
  },
  {
   "cell_type": "code",
   "execution_count": 5,
   "metadata": {},
   "outputs": [
    {
     "data": {
      "text/plain": [
       "['__attrs__',\n",
       " '__bool__',\n",
       " '__class__',\n",
       " '__delattr__',\n",
       " '__dict__',\n",
       " '__dir__',\n",
       " '__doc__',\n",
       " '__enter__',\n",
       " '__eq__',\n",
       " '__exit__',\n",
       " '__format__',\n",
       " '__ge__',\n",
       " '__getattribute__',\n",
       " '__getstate__',\n",
       " '__gt__',\n",
       " '__hash__',\n",
       " '__init__',\n",
       " '__init_subclass__',\n",
       " '__iter__',\n",
       " '__le__',\n",
       " '__lt__',\n",
       " '__module__',\n",
       " '__ne__',\n",
       " '__new__',\n",
       " '__nonzero__',\n",
       " '__reduce__',\n",
       " '__reduce_ex__',\n",
       " '__repr__',\n",
       " '__setattr__',\n",
       " '__setstate__',\n",
       " '__sizeof__',\n",
       " '__str__',\n",
       " '__subclasshook__',\n",
       " '__weakref__',\n",
       " '_content',\n",
       " '_content_consumed',\n",
       " '_next',\n",
       " 'apparent_encoding',\n",
       " 'close',\n",
       " 'connection',\n",
       " 'content',\n",
       " 'cookies',\n",
       " 'elapsed',\n",
       " 'encoding',\n",
       " 'headers',\n",
       " 'history',\n",
       " 'is_permanent_redirect',\n",
       " 'is_redirect',\n",
       " 'iter_content',\n",
       " 'iter_lines',\n",
       " 'json',\n",
       " 'links',\n",
       " 'next',\n",
       " 'ok',\n",
       " 'raise_for_status',\n",
       " 'raw',\n",
       " 'reason',\n",
       " 'request',\n",
       " 'status_code',\n",
       " 'text',\n",
       " 'url']"
      ]
     },
     "execution_count": 5,
     "metadata": {},
     "output_type": "execute_result"
    }
   ],
   "source": [
    "dir(response)"
   ]
  },
  {
   "cell_type": "markdown",
   "metadata": {},
   "source": [
    "Response Status Code"
   ]
  },
  {
   "cell_type": "code",
   "execution_count": 6,
   "metadata": {},
   "outputs": [
    {
     "name": "stdout",
     "output_type": "stream",
     "text": [
      "200\n"
     ]
    }
   ],
   "source": [
    "print(response.status_code)"
   ]
  },
  {
   "cell_type": "markdown",
   "metadata": {},
   "source": [
    "Response JSON"
   ]
  },
  {
   "cell_type": "code",
   "execution_count": 7,
   "metadata": {},
   "outputs": [
    {
     "name": "stdout",
     "output_type": "stream",
     "text": [
      "response_json type: <class 'dict'>\n"
     ]
    }
   ],
   "source": [
    "response_data = response.json()\n",
    "print(\"response_json type:\", type(response_data))"
   ]
  },
  {
   "cell_type": "markdown",
   "metadata": {},
   "source": [
    "Response Data Keys"
   ]
  },
  {
   "cell_type": "code",
   "execution_count": 8,
   "metadata": {},
   "outputs": [
    {
     "data": {
      "text/plain": [
       "dict_keys(['Meta Data', 'Time Series (Daily)'])"
      ]
     },
     "execution_count": 8,
     "metadata": {},
     "output_type": "execute_result"
    }
   ],
   "source": [
    "response_data.keys()"
   ]
  },
  {
   "cell_type": "markdown",
   "metadata": {},
   "source": [
    "Get Daily Function"
   ]
  },
  {
   "cell_type": "code",
   "execution_count": 9,
   "metadata": {},
   "outputs": [],
   "source": [
    "def get_daily(ticker, output_size=\"full\"):\n",
    "    \"\"\"Get daily time series of an equity from AlphaVantage.\n",
    "    parameters\n",
    "    _ _ _ _ _ _\n",
    "    ticker: str\n",
    "        The ticker symbol of the equity.\n",
    "    output_size: str\n",
    "        Number of observations to return. \"full\" means the historic observations of the equtiy to be returned, \"compact means the most recent observations.\"\n",
    "    returns\n",
    "    _ _ _ _ _ _\n",
    "    pd.DataFrame:\n",
    "        Columns are \"open, high, low, close, volume\"\n",
    "    \"\"\"\n",
    "    \n",
    "    # Create URL\n",
    "    url = (\n",
    "        \"https://www.alphavantage.co/query?\"\n",
    "        \"function=TIME_SERIES_DAILY&\"\n",
    "        f\"symbol={ticker}&\"\n",
    "        f\"outputsize={output_size}&\"\n",
    "        f\"datatype=json&\"\n",
    "        f\"apikey={api_key}\"\n",
    "    )\n",
    "    \n",
    "    # Send request to api\n",
    "    response = requests.get(url=url)\n",
    "    \n",
    "    # Check if the request  is successfull\n",
    "    if response.status_code != 200:\n",
    "        raise Exception(f\"Error fetching data: {response.status_code}\")\n",
    "    \n",
    "    # Extract JSON data from response\n",
    "    response_data = response.json()\n",
    "    \n",
    "    # Check if the \"Time Series key exists\" in response_data\n",
    "    if \"Time Series (Daily)\" not in response_data.keys():\n",
    "        raise Exception(\n",
    "            f\"Invalid API call. Check the ticker symbol: {ticker}\"\n",
    "        )\n",
    "    \n",
    "    # Extract json data from response\n",
    "    data = response_data[\"Time Series (Daily)\"]\n",
    "    \n",
    "    \n",
    "    # Read data into DataFrame\n",
    "    stock_data = pd.DataFrame.from_dict(data, orient=\"index\", dtype=\"float\")\n",
    "    \n",
    "    # Convert \"index\" to \"datetime index\" and name \"date\"\n",
    "    stock_data.index =  pd.to_datetime(stock_data.index)\n",
    "    stock_data.index.name = \"date\"\n",
    "\n",
    "    # Removing numbering from your column names\n",
    "    stock_data.columns = [c.split(\".\")[1] for c in stock_data.columns]\n",
    "    \n",
    "    return stock_data"
   ]
  },
  {
   "cell_type": "markdown",
   "metadata": {},
   "source": [
    "Testing Get Daily Function"
   ]
  },
  {
   "cell_type": "code",
   "execution_count": 10,
   "metadata": {},
   "outputs": [
    {
     "data": {
      "text/html": [
       "<div>\n",
       "<style scoped>\n",
       "    .dataframe tbody tr th:only-of-type {\n",
       "        vertical-align: middle;\n",
       "    }\n",
       "\n",
       "    .dataframe tbody tr th {\n",
       "        vertical-align: top;\n",
       "    }\n",
       "\n",
       "    .dataframe thead th {\n",
       "        text-align: right;\n",
       "    }\n",
       "</style>\n",
       "<table border=\"1\" class=\"dataframe\">\n",
       "  <thead>\n",
       "    <tr style=\"text-align: right;\">\n",
       "      <th></th>\n",
       "      <th>open</th>\n",
       "      <th>high</th>\n",
       "      <th>low</th>\n",
       "      <th>close</th>\n",
       "      <th>volume</th>\n",
       "    </tr>\n",
       "    <tr>\n",
       "      <th>date</th>\n",
       "      <th></th>\n",
       "      <th></th>\n",
       "      <th></th>\n",
       "      <th></th>\n",
       "      <th></th>\n",
       "    </tr>\n",
       "  </thead>\n",
       "  <tbody>\n",
       "    <tr>\n",
       "      <th>2024-09-27</th>\n",
       "      <td>130.160</td>\n",
       "      <td>130.31</td>\n",
       "      <td>128.1700</td>\n",
       "      <td>128.25</td>\n",
       "      <td>2525697.0</td>\n",
       "    </tr>\n",
       "    <tr>\n",
       "      <th>2024-09-26</th>\n",
       "      <td>132.706</td>\n",
       "      <td>133.34</td>\n",
       "      <td>129.1460</td>\n",
       "      <td>129.25</td>\n",
       "      <td>3825948.0</td>\n",
       "    </tr>\n",
       "    <tr>\n",
       "      <th>2024-09-25</th>\n",
       "      <td>131.310</td>\n",
       "      <td>131.90</td>\n",
       "      <td>130.3000</td>\n",
       "      <td>130.71</td>\n",
       "      <td>2310696.0</td>\n",
       "    </tr>\n",
       "    <tr>\n",
       "      <th>2024-09-24</th>\n",
       "      <td>130.580</td>\n",
       "      <td>131.67</td>\n",
       "      <td>129.5900</td>\n",
       "      <td>131.48</td>\n",
       "      <td>4189105.0</td>\n",
       "    </tr>\n",
       "    <tr>\n",
       "      <th>2024-09-23</th>\n",
       "      <td>131.500</td>\n",
       "      <td>131.64</td>\n",
       "      <td>128.9000</td>\n",
       "      <td>129.03</td>\n",
       "      <td>3682591.0</td>\n",
       "    </tr>\n",
       "    <tr>\n",
       "      <th>...</th>\n",
       "      <td>...</td>\n",
       "      <td>...</td>\n",
       "      <td>...</td>\n",
       "      <td>...</td>\n",
       "      <td>...</td>\n",
       "    </tr>\n",
       "    <tr>\n",
       "      <th>2020-12-16</th>\n",
       "      <td>125.830</td>\n",
       "      <td>142.00</td>\n",
       "      <td>124.9100</td>\n",
       "      <td>137.99</td>\n",
       "      <td>20409551.0</td>\n",
       "    </tr>\n",
       "    <tr>\n",
       "      <th>2020-12-15</th>\n",
       "      <td>126.690</td>\n",
       "      <td>127.60</td>\n",
       "      <td>121.5000</td>\n",
       "      <td>124.80</td>\n",
       "      <td>10914432.0</td>\n",
       "    </tr>\n",
       "    <tr>\n",
       "      <th>2020-12-14</th>\n",
       "      <td>135.000</td>\n",
       "      <td>135.30</td>\n",
       "      <td>125.1601</td>\n",
       "      <td>130.00</td>\n",
       "      <td>16966089.0</td>\n",
       "    </tr>\n",
       "    <tr>\n",
       "      <th>2020-12-11</th>\n",
       "      <td>146.550</td>\n",
       "      <td>151.50</td>\n",
       "      <td>135.1000</td>\n",
       "      <td>139.25</td>\n",
       "      <td>26980830.0</td>\n",
       "    </tr>\n",
       "    <tr>\n",
       "      <th>2020-12-10</th>\n",
       "      <td>146.000</td>\n",
       "      <td>165.00</td>\n",
       "      <td>141.2500</td>\n",
       "      <td>144.71</td>\n",
       "      <td>70447537.0</td>\n",
       "    </tr>\n",
       "  </tbody>\n",
       "</table>\n",
       "<p>955 rows × 5 columns</p>\n",
       "</div>"
      ],
      "text/plain": [
       "               open    high       low   close      volume\n",
       "date                                                     \n",
       "2024-09-27  130.160  130.31  128.1700  128.25   2525697.0\n",
       "2024-09-26  132.706  133.34  129.1460  129.25   3825948.0\n",
       "2024-09-25  131.310  131.90  130.3000  130.71   2310696.0\n",
       "2024-09-24  130.580  131.67  129.5900  131.48   4189105.0\n",
       "2024-09-23  131.500  131.64  128.9000  129.03   3682591.0\n",
       "...             ...     ...       ...     ...         ...\n",
       "2020-12-16  125.830  142.00  124.9100  137.99  20409551.0\n",
       "2020-12-15  126.690  127.60  121.5000  124.80  10914432.0\n",
       "2020-12-14  135.000  135.30  125.1601  130.00  16966089.0\n",
       "2020-12-11  146.550  151.50  135.1000  139.25  26980830.0\n",
       "2020-12-10  146.000  165.00  141.2500  144.71  70447537.0\n",
       "\n",
       "[955 rows x 5 columns]"
      ]
     },
     "execution_count": 10,
     "metadata": {},
     "output_type": "execute_result"
    }
   ],
   "source": [
    "get_daily(ticker=\"ABNB\")"
   ]
  },
  {
   "cell_type": "code",
   "execution_count": null,
   "metadata": {},
   "outputs": [],
   "source": []
  }
 ],
 "metadata": {
  "kernelspec": {
   "display_name": "Python 3",
   "language": "python",
   "name": "python3"
  },
  "language_info": {
   "codemirror_mode": {
    "name": "ipython",
    "version": 3
   },
   "file_extension": ".py",
   "mimetype": "text/x-python",
   "name": "python",
   "nbconvert_exporter": "python",
   "pygments_lexer": "ipython3",
   "version": "3.10.12"
  }
 },
 "nbformat": 4,
 "nbformat_minor": 2
}
