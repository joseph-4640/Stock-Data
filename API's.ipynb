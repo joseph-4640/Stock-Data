{
 "cells": [
  {
   "cell_type": "markdown",
   "metadata": {},
   "source": [
    "GETTING DATA FROM API's"
   ]
  },
  {
   "cell_type": "code",
   "execution_count": 1,
   "metadata": {},
   "outputs": [],
   "source": [
    "import pandas as pd\n",
    "import requests"
   ]
  },
  {
   "cell_type": "markdown",
   "metadata": {},
   "source": [
    "Accesing API's through URL"
   ]
  },
  {
   "cell_type": "code",
   "execution_count": 2,
   "metadata": {},
   "outputs": [],
   "source": [
    "alpha_api_key = \"PGPVDW57277TSFM3\""
   ]
  },
  {
   "cell_type": "markdown",
   "metadata": {},
   "source": [
    "URL for Alibaba Limited Company"
   ]
  },
  {
   "cell_type": "code",
   "execution_count": 3,
   "metadata": {},
   "outputs": [
    {
     "name": "stdout",
     "output_type": "stream",
     "text": [
      "url type: <class 'str'>\n"
     ]
    },
    {
     "data": {
      "text/plain": [
       "'https://www.alphavantage.co/query?function=TIME_SERIES_DAILY&symbol=BABA&outputsize=compact&datatype=json&apikey=PGPVDW57277TSFM3'"
      ]
     },
     "execution_count": 3,
     "metadata": {},
     "output_type": "execute_result"
    }
   ],
   "source": [
    "ticker = \"BABA\"\n",
    "output_size = \"compact\"\n",
    "data_type = \"json\"\n",
    "\n",
    "url = (\n",
    "    \"https://www.alphavantage.co/query?\"\n",
    "    \"function=TIME_SERIES_DAILY&\"\n",
    "    f\"symbol={ticker}&\"\n",
    "    f\"outputsize={output_size}&\"\n",
    "    f\"datatype={data_type}&\"\n",
    "    f\"apikey={alpha_api_key}\"\n",
    ")\n",
    "print(\"url type:\", type(url))\n",
    "url"
   ]
  },
  {
   "cell_type": "markdown",
   "metadata": {},
   "source": [
    "Accessing API's through a Request"
   ]
  },
  {
   "cell_type": "code",
   "execution_count": 4,
   "metadata": {},
   "outputs": [
    {
     "name": "stdout",
     "output_type": "stream",
     "text": [
      "response type: <class 'requests.models.Response'>\n"
     ]
    }
   ],
   "source": [
    "response = requests.get(url=url)\n",
    "print(\"response type:\", type(response))"
   ]
  },
  {
   "cell_type": "markdown",
   "metadata": {},
   "source": [
    "Response Attributes"
   ]
  },
  {
   "cell_type": "code",
   "execution_count": 5,
   "metadata": {},
   "outputs": [
    {
     "data": {
      "text/plain": [
       "['__attrs__',\n",
       " '__bool__',\n",
       " '__class__',\n",
       " '__delattr__',\n",
       " '__dict__',\n",
       " '__dir__',\n",
       " '__doc__',\n",
       " '__enter__',\n",
       " '__eq__',\n",
       " '__exit__',\n",
       " '__format__',\n",
       " '__ge__',\n",
       " '__getattribute__',\n",
       " '__getstate__',\n",
       " '__gt__',\n",
       " '__hash__',\n",
       " '__init__',\n",
       " '__init_subclass__',\n",
       " '__iter__',\n",
       " '__le__',\n",
       " '__lt__',\n",
       " '__module__',\n",
       " '__ne__',\n",
       " '__new__',\n",
       " '__nonzero__',\n",
       " '__reduce__',\n",
       " '__reduce_ex__',\n",
       " '__repr__',\n",
       " '__setattr__',\n",
       " '__setstate__',\n",
       " '__sizeof__',\n",
       " '__str__',\n",
       " '__subclasshook__',\n",
       " '__weakref__',\n",
       " '_content',\n",
       " '_content_consumed',\n",
       " '_next',\n",
       " 'apparent_encoding',\n",
       " 'close',\n",
       " 'connection',\n",
       " 'content',\n",
       " 'cookies',\n",
       " 'elapsed',\n",
       " 'encoding',\n",
       " 'headers',\n",
       " 'history',\n",
       " 'is_permanent_redirect',\n",
       " 'is_redirect',\n",
       " 'iter_content',\n",
       " 'iter_lines',\n",
       " 'json',\n",
       " 'links',\n",
       " 'next',\n",
       " 'ok',\n",
       " 'raise_for_status',\n",
       " 'raw',\n",
       " 'reason',\n",
       " 'request',\n",
       " 'status_code',\n",
       " 'text',\n",
       " 'url']"
      ]
     },
     "execution_count": 5,
     "metadata": {},
     "output_type": "execute_result"
    }
   ],
   "source": [
    "dir(response)"
   ]
  },
  {
   "cell_type": "markdown",
   "metadata": {},
   "source": [
    "Response Status Code"
   ]
  },
  {
   "cell_type": "code",
   "execution_count": 6,
   "metadata": {},
   "outputs": [
    {
     "name": "stdout",
     "output_type": "stream",
     "text": [
      "200\n"
     ]
    }
   ],
   "source": [
    "print(response.status_code)"
   ]
  },
  {
   "cell_type": "markdown",
   "metadata": {},
   "source": [
    "Response JSON"
   ]
  },
  {
   "cell_type": "code",
   "execution_count": 7,
   "metadata": {},
   "outputs": [
    {
     "name": "stdout",
     "output_type": "stream",
     "text": [
      "response_json type: <class 'dict'>\n"
     ]
    }
   ],
   "source": [
    "response_data = response.json()\n",
    "print(\"response_json type:\", type(response_data))"
   ]
  },
  {
   "cell_type": "markdown",
   "metadata": {},
   "source": [
    "Response Data Keys"
   ]
  },
  {
   "cell_type": "code",
   "execution_count": 8,
   "metadata": {},
   "outputs": [
    {
     "data": {
      "text/plain": [
       "dict_keys(['Meta Data', 'Time Series (Daily)'])"
      ]
     },
     "execution_count": 8,
     "metadata": {},
     "output_type": "execute_result"
    }
   ],
   "source": [
    "response_data.keys()"
   ]
  },
  {
   "cell_type": "markdown",
   "metadata": {},
   "source": [
    "Get Daily Function"
   ]
  },
  {
   "cell_type": "code",
   "execution_count": 9,
   "metadata": {},
   "outputs": [],
   "source": [
    "def get_daily(ticker, output_size=\"full\"):\n",
    "    \"\"\"Get daily time series of an equity from AlphaVantage.\n",
    "    parameters\n",
    "    _ _ _ _ _ _\n",
    "    ticker: str\n",
    "        The ticker symbol of the equity.\n",
    "    output_size: str\n",
    "        Number of observations to return. \"full\" means the historic observations of the equtiy to be returned, \"compact means the most recent observations.\"\n",
    "    returns\n",
    "    _ _ _ _ _ _\n",
    "    pd.DataFrame:\n",
    "        Columns are \"open, high, low, close, volume\"\n",
    "    \"\"\"\n",
    "    \n",
    "    # Create URL\n",
    "    url = (\n",
    "        \"https://www.alphavantage.co/query?\"\n",
    "        \"function=TIME_SERIES_DAILY&\"\n",
    "        f\"symbol={ticker}&\"\n",
    "        f\"outputsize={output_size}&\"\n",
    "        f\"datatype=json&\"\n",
    "        f\"apikey={alpha_api_key}\"\n",
    "    )\n",
    "    \n",
    "    # Send request to api\n",
    "    response = requests.get(url=url)\n",
    "    \n",
    "    # Check if the request  is successfull\n",
    "    if response.status_code != 200:\n",
    "        raise Exception(f\"Error fetching data: {response.status_code}\")\n",
    "    \n",
    "    # Check if the \"Time Series key exists\" in response_data\n",
    "    if \"Time Series (Daily)\" not in response_data.keys():\n",
    "        raise Exception(\n",
    "            f\"Invalid API call. Check the ticker symbol: {ticker}\"\n",
    "        )\n",
    "    \n",
    "    # Extract json data from response\n",
    "    data = response_data[\"Time Series (Daily)\"]\n",
    "    \n",
    "    # Read data into DataFrame\n",
    "    stock_data = pd.DataFrame.from_dict(data, orient=\"index\", dtype=\"float\")\n",
    "    \n",
    "    # Convert \"index\" to \"datetime index\" and name \"date\"\n",
    "    stock_data.index =  pd.to_datetime(stock_data.index)\n",
    "    stock_data.index.name = \"date\"\n",
    "\n",
    "    # Removing numbering from your column names\n",
    "    stock_data.columns = [c.split(\".\")[1] for c in stock_data.columns]\n",
    "    \n",
    "    return stock_data"
   ]
  },
  {
   "cell_type": "markdown",
   "metadata": {},
   "source": [
    "Testing Get Daily Function"
   ]
  },
  {
   "cell_type": "code",
   "execution_count": 10,
   "metadata": {},
   "outputs": [
    {
     "data": {
      "text/html": [
       "<div>\n",
       "<style scoped>\n",
       "    .dataframe tbody tr th:only-of-type {\n",
       "        vertical-align: middle;\n",
       "    }\n",
       "\n",
       "    .dataframe tbody tr th {\n",
       "        vertical-align: top;\n",
       "    }\n",
       "\n",
       "    .dataframe thead th {\n",
       "        text-align: right;\n",
       "    }\n",
       "</style>\n",
       "<table border=\"1\" class=\"dataframe\">\n",
       "  <thead>\n",
       "    <tr style=\"text-align: right;\">\n",
       "      <th></th>\n",
       "      <th>open</th>\n",
       "      <th>high</th>\n",
       "      <th>low</th>\n",
       "      <th>close</th>\n",
       "      <th>volume</th>\n",
       "    </tr>\n",
       "    <tr>\n",
       "      <th>date</th>\n",
       "      <th></th>\n",
       "      <th></th>\n",
       "      <th></th>\n",
       "      <th></th>\n",
       "      <th></th>\n",
       "    </tr>\n",
       "  </thead>\n",
       "  <tbody>\n",
       "    <tr>\n",
       "      <th>2024-09-25</th>\n",
       "      <td>94.380</td>\n",
       "      <td>96.180</td>\n",
       "      <td>94.060</td>\n",
       "      <td>95.46</td>\n",
       "      <td>18816624.0</td>\n",
       "    </tr>\n",
       "    <tr>\n",
       "      <th>2024-09-24</th>\n",
       "      <td>96.070</td>\n",
       "      <td>97.500</td>\n",
       "      <td>94.400</td>\n",
       "      <td>97.19</td>\n",
       "      <td>47423157.0</td>\n",
       "    </tr>\n",
       "    <tr>\n",
       "      <th>2024-09-23</th>\n",
       "      <td>89.470</td>\n",
       "      <td>91.150</td>\n",
       "      <td>89.320</td>\n",
       "      <td>90.09</td>\n",
       "      <td>19744055.0</td>\n",
       "    </tr>\n",
       "    <tr>\n",
       "      <th>2024-09-20</th>\n",
       "      <td>89.220</td>\n",
       "      <td>89.520</td>\n",
       "      <td>88.050</td>\n",
       "      <td>88.29</td>\n",
       "      <td>12277036.0</td>\n",
       "    </tr>\n",
       "    <tr>\n",
       "      <th>2024-09-19</th>\n",
       "      <td>87.625</td>\n",
       "      <td>88.565</td>\n",
       "      <td>86.950</td>\n",
       "      <td>88.49</td>\n",
       "      <td>18618354.0</td>\n",
       "    </tr>\n",
       "    <tr>\n",
       "      <th>...</th>\n",
       "      <td>...</td>\n",
       "      <td>...</td>\n",
       "      <td>...</td>\n",
       "      <td>...</td>\n",
       "      <td>...</td>\n",
       "    </tr>\n",
       "    <tr>\n",
       "      <th>2024-05-09</th>\n",
       "      <td>79.500</td>\n",
       "      <td>79.920</td>\n",
       "      <td>78.710</td>\n",
       "      <td>79.46</td>\n",
       "      <td>9627274.0</td>\n",
       "    </tr>\n",
       "    <tr>\n",
       "      <th>2024-05-08</th>\n",
       "      <td>77.920</td>\n",
       "      <td>78.990</td>\n",
       "      <td>77.810</td>\n",
       "      <td>78.46</td>\n",
       "      <td>11327088.0</td>\n",
       "    </tr>\n",
       "    <tr>\n",
       "      <th>2024-05-07</th>\n",
       "      <td>79.930</td>\n",
       "      <td>79.930</td>\n",
       "      <td>78.815</td>\n",
       "      <td>79.37</td>\n",
       "      <td>14589103.0</td>\n",
       "    </tr>\n",
       "    <tr>\n",
       "      <th>2024-05-06</th>\n",
       "      <td>81.755</td>\n",
       "      <td>82.220</td>\n",
       "      <td>80.500</td>\n",
       "      <td>81.55</td>\n",
       "      <td>11826084.0</td>\n",
       "    </tr>\n",
       "    <tr>\n",
       "      <th>2024-05-03</th>\n",
       "      <td>81.270</td>\n",
       "      <td>81.370</td>\n",
       "      <td>79.700</td>\n",
       "      <td>81.33</td>\n",
       "      <td>19355807.0</td>\n",
       "    </tr>\n",
       "  </tbody>\n",
       "</table>\n",
       "<p>100 rows × 5 columns</p>\n",
       "</div>"
      ],
      "text/plain": [
       "              open    high     low  close      volume\n",
       "date                                                 \n",
       "2024-09-25  94.380  96.180  94.060  95.46  18816624.0\n",
       "2024-09-24  96.070  97.500  94.400  97.19  47423157.0\n",
       "2024-09-23  89.470  91.150  89.320  90.09  19744055.0\n",
       "2024-09-20  89.220  89.520  88.050  88.29  12277036.0\n",
       "2024-09-19  87.625  88.565  86.950  88.49  18618354.0\n",
       "...            ...     ...     ...    ...         ...\n",
       "2024-05-09  79.500  79.920  78.710  79.46   9627274.0\n",
       "2024-05-08  77.920  78.990  77.810  78.46  11327088.0\n",
       "2024-05-07  79.930  79.930  78.815  79.37  14589103.0\n",
       "2024-05-06  81.755  82.220  80.500  81.55  11826084.0\n",
       "2024-05-03  81.270  81.370  79.700  81.33  19355807.0\n",
       "\n",
       "[100 rows x 5 columns]"
      ]
     },
     "execution_count": 10,
     "metadata": {},
     "output_type": "execute_result"
    }
   ],
   "source": [
    "get_daily(ticker=\"BABA\")"
   ]
  },
  {
   "cell_type": "code",
   "execution_count": null,
   "metadata": {},
   "outputs": [],
   "source": []
  }
 ],
 "metadata": {
  "kernelspec": {
   "display_name": "Python 3",
   "language": "python",
   "name": "python3"
  },
  "language_info": {
   "codemirror_mode": {
    "name": "ipython",
    "version": 3
   },
   "file_extension": ".py",
   "mimetype": "text/x-python",
   "name": "python",
   "nbconvert_exporter": "python",
   "pygments_lexer": "ipython3",
   "version": "3.10.12"
  }
 },
 "nbformat": 4,
 "nbformat_minor": 2
}
