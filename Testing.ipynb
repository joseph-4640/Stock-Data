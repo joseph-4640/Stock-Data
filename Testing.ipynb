{
 "cells": [
  {
   "cell_type": "markdown",
   "metadata": {},
   "source": [
    "GOALS\n",
    "1. Build an AlphaVantage API class for getting stock data.\n",
    "2. Build an SQL Repository class for data storage.\n",
    "3. Calculate and compare returns for two companies."
   ]
  },
  {
   "cell_type": "code",
   "execution_count": 1,
   "metadata": {},
   "outputs": [],
   "source": [
    "import sqlite3\n",
    "import pandas as pd\n",
    "import matplotlib.pyplot as plt\n",
    "from APImodule import AlphaVantageAPI"
   ]
  },
  {
   "cell_type": "code",
   "execution_count": 28,
   "metadata": {},
   "outputs": [
    {
     "name": "stdout",
     "output_type": "stream",
     "text": [
      "av type: <class 'APImodule.AlphaVantageAPI'>\n"
     ]
    }
   ],
   "source": [
    "# Create instance of alphavantahge API\n",
    "av = AlphaVantageAPI()\n",
    "print(\"av type:\", type(av))"
   ]
  },
  {
   "cell_type": "code",
   "execution_count": 21,
   "metadata": {},
   "outputs": [
    {
     "data": {
      "text/plain": [
       "[' open', ' high', ' low', ' close', ' volume']"
      ]
     },
     "execution_count": 21,
     "metadata": {},
     "output_type": "execute_result"
    }
   ],
   "source": [
    "df_airbnb.columns.to_list()"
   ]
  },
  {
   "cell_type": "markdown",
   "metadata": {},
   "source": [
    "AlphaVantageAPI: Get Daily Method"
   ]
  },
  {
   "cell_type": "code",
   "execution_count": 30,
   "metadata": {},
   "outputs": [
    {
     "ename": "Exception",
     "evalue": "Invalid API call. Check the ticker symbol: AMJB",
     "output_type": "error",
     "traceback": [
      "\u001b[0;31m---------------------------------------------------------------------------\u001b[0m",
      "\u001b[0;31mException\u001b[0m                                 Traceback (most recent call last)",
      "Cell \u001b[0;32mIn[30], line 3\u001b[0m\n\u001b[1;32m      1\u001b[0m \u001b[38;5;66;03m# Fetch stock data from 'Airbnb' company\u001b[39;00m\n\u001b[1;32m      2\u001b[0m ticker \u001b[38;5;241m=\u001b[39m \u001b[38;5;124m\"\u001b[39m\u001b[38;5;124mAMJB\u001b[39m\u001b[38;5;124m\"\u001b[39m\n\u001b[0;32m----> 3\u001b[0m df_airbnb \u001b[38;5;241m=\u001b[39m \u001b[43mav\u001b[49m\u001b[38;5;241;43m.\u001b[39;49m\u001b[43mget_daily\u001b[49m\u001b[43m(\u001b[49m\u001b[43mticker\u001b[49m\u001b[38;5;241;43m=\u001b[39;49m\u001b[43mticker\u001b[49m\u001b[43m)\u001b[49m\n\u001b[1;32m      5\u001b[0m \u001b[38;5;66;03m# Does 'get daily' method retutn a dataframe\u001b[39;00m\n\u001b[1;32m      6\u001b[0m \u001b[38;5;28;01massert\u001b[39;00m \u001b[38;5;28misinstance\u001b[39m(df_airbnb, pd\u001b[38;5;241m.\u001b[39mDataFrame)\n",
      "File \u001b[0;32m~/Stock-Data/Stock-Data/APImodule.py:46\u001b[0m, in \u001b[0;36mAlphaVantageAPI.get_daily\u001b[0;34m(self, ticker, output_size)\u001b[0m\n\u001b[1;32m     44\u001b[0m \u001b[38;5;66;03m# Check if the \"Time Series key exists\" in response_data\u001b[39;00m\n\u001b[1;32m     45\u001b[0m \u001b[38;5;28;01mif\u001b[39;00m \u001b[38;5;124m\"\u001b[39m\u001b[38;5;124mTime Series (Daily)\u001b[39m\u001b[38;5;124m\"\u001b[39m \u001b[38;5;129;01mnot\u001b[39;00m \u001b[38;5;129;01min\u001b[39;00m response_data\u001b[38;5;241m.\u001b[39mkeys():\n\u001b[0;32m---> 46\u001b[0m     \u001b[38;5;28;01mraise\u001b[39;00m \u001b[38;5;167;01mException\u001b[39;00m(\n\u001b[1;32m     47\u001b[0m         \u001b[38;5;124mf\u001b[39m\u001b[38;5;124m\"\u001b[39m\u001b[38;5;124mInvalid API call. Check the ticker symbol: \u001b[39m\u001b[38;5;132;01m{\u001b[39;00mticker\u001b[38;5;132;01m}\u001b[39;00m\u001b[38;5;124m\"\u001b[39m\n\u001b[1;32m     48\u001b[0m     )\n\u001b[1;32m     50\u001b[0m \u001b[38;5;66;03m# Extract json data from response\u001b[39;00m\n\u001b[1;32m     51\u001b[0m data \u001b[38;5;241m=\u001b[39m response_data[\u001b[38;5;124m\"\u001b[39m\u001b[38;5;124mTime Series (Daily)\u001b[39m\u001b[38;5;124m\"\u001b[39m]\n",
      "\u001b[0;31mException\u001b[0m: Invalid API call. Check the ticker symbol: AMJB"
     ]
    }
   ],
   "source": [
    "# Fetch stock data from 'Airbnb' company\n",
    "ticker = \"AMJB\"\n",
    "df_airbnb = av.get_daily(ticker=ticker)\n",
    "\n",
    "# Does 'get daily' method retutn a dataframe\n",
    "assert isinstance(df_airbnb, pd.DataFrame)\n",
    "\n",
    "# Does dataframe have 5 columns\n",
    "assert df_airbnb.shape[1] == 5\n",
    "\n",
    "# Does a dataframe have a datetime index\n",
    "assert isinstance(df_airbnb.index, pd.DatetimeIndex)\n",
    "\n",
    "# Is the index name \"date\"\n",
    "assert df_airbnb.index.name == \"date\"\n",
    "\n",
    "# Does Dataframe have correct column names\n",
    "assert df_airbnb.columns.to_list() == [' open', ' high', ' low', ' close', ' volume']\n",
    "\n"
   ]
  },
  {
   "cell_type": "code",
   "execution_count": null,
   "metadata": {},
   "outputs": [],
   "source": []
  }
 ],
 "metadata": {
  "kernelspec": {
   "display_name": "Python 3",
   "language": "python",
   "name": "python3"
  },
  "language_info": {
   "codemirror_mode": {
    "name": "ipython",
    "version": 3
   },
   "file_extension": ".py",
   "mimetype": "text/x-python",
   "name": "python",
   "nbconvert_exporter": "python",
   "pygments_lexer": "ipython3",
   "version": "3.10.12"
  }
 },
 "nbformat": 4,
 "nbformat_minor": 2
}
