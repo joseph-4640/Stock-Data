{
 "cells": [
  {
   "cell_type": "markdown",
   "metadata": {},
   "source": [
    "GOALS\n",
    "1. Build an AlphaVantage API class for getting stock data.\n",
    "2. Build an SQL Repository class for data storage.\n",
    "3. Calculate and compare returns for two companies."
   ]
  },
  {
   "cell_type": "code",
   "execution_count": 16,
   "metadata": {},
   "outputs": [],
   "source": [
    "import sqlite3\n",
    "import pandas as pd\n",
    "import matplotlib.pyplot as plt\n",
    "from APImodule import AlphaVantageAPI"
   ]
  },
  {
   "cell_type": "code",
   "execution_count": 23,
   "metadata": {},
   "outputs": [
    {
     "name": "stdout",
     "output_type": "stream",
     "text": [
      "av type: <class 'APImodule.AlphaVantageAPI'>\n"
     ]
    }
   ],
   "source": [
    "# Create instance of alphavantahge API\n",
    "av = AlphaVantageAPI(api_key=\"PGPVDW57277TSFM3\")\n",
    "print(\"av type:\", type(av))"
   ]
  },
  {
   "cell_type": "code",
   "execution_count": null,
   "metadata": {},
   "outputs": [],
   "source": []
  },
  {
   "cell_type": "markdown",
   "metadata": {},
   "source": [
    "AlphaVantageAPI: Get Daily Method"
   ]
  },
  {
   "cell_type": "code",
   "execution_count": 24,
   "metadata": {},
   "outputs": [
    {
     "ename": "AttributeError",
     "evalue": "'AlphaVantageAPI' object has no attribute 'alpha_api_key'",
     "output_type": "error",
     "traceback": [
      "\u001b[0;31m---------------------------------------------------------------------------\u001b[0m",
      "\u001b[0;31mAttributeError\u001b[0m                            Traceback (most recent call last)",
      "Cell \u001b[0;32mIn[24], line 3\u001b[0m\n\u001b[1;32m      1\u001b[0m \u001b[38;5;66;03m# Fetch stock data from 'Airbnb' company\u001b[39;00m\n\u001b[1;32m      2\u001b[0m ticker \u001b[38;5;241m=\u001b[39m \u001b[38;5;124m\"\u001b[39m\u001b[38;5;124mABNB\u001b[39m\u001b[38;5;124m\"\u001b[39m\n\u001b[0;32m----> 3\u001b[0m df_airbnb \u001b[38;5;241m=\u001b[39m \u001b[43mav\u001b[49m\u001b[38;5;241;43m.\u001b[39;49m\u001b[43mget_daily\u001b[49m\u001b[43m(\u001b[49m\u001b[43mticker\u001b[49m\u001b[38;5;241;43m=\u001b[39;49m\u001b[43mticker\u001b[49m\u001b[43m)\u001b[49m\n\u001b[1;32m      5\u001b[0m \u001b[38;5;66;03m# Does 'get daily' method retutn a dataframe\u001b[39;00m\n\u001b[1;32m      6\u001b[0m \u001b[38;5;28;01massert\u001b[39;00m \u001b[38;5;28misinstance\u001b[39m(df_airbnb, pd\u001b[38;5;241m.\u001b[39mDataFrame)\n",
      "File \u001b[0;32m~/Stock-Data/Stock-Data/APImodule.py:31\u001b[0m, in \u001b[0;36mAlphaVantageAPI.get_daily\u001b[0;34m(self, ticker, output_size)\u001b[0m\n\u001b[1;32m     11\u001b[0m \u001b[38;5;250m\u001b[39m\u001b[38;5;124;03m\"\"\"Get daily time series of an equity from AlphaVantage.\u001b[39;00m\n\u001b[1;32m     12\u001b[0m \u001b[38;5;124;03mparameters\u001b[39;00m\n\u001b[1;32m     13\u001b[0m \u001b[38;5;124;03m_ _ _ _ _ _\u001b[39;00m\n\u001b[0;32m   (...)\u001b[0m\n\u001b[1;32m     21\u001b[0m \u001b[38;5;124;03m    Columns are \"open, high, low, close, volume\"\u001b[39;00m\n\u001b[1;32m     22\u001b[0m \u001b[38;5;124;03m\"\"\"\u001b[39;00m\n\u001b[1;32m     24\u001b[0m \u001b[38;5;66;03m# Create URL\u001b[39;00m\n\u001b[1;32m     25\u001b[0m url \u001b[38;5;241m=\u001b[39m (\n\u001b[1;32m     26\u001b[0m     \u001b[38;5;124m\"\u001b[39m\u001b[38;5;124mhttps://www.alphavantage.co/query?\u001b[39m\u001b[38;5;124m\"\u001b[39m\n\u001b[1;32m     27\u001b[0m     \u001b[38;5;124m\"\u001b[39m\u001b[38;5;124mfunction=TIME_SERIES_DAILY&\u001b[39m\u001b[38;5;124m\"\u001b[39m\n\u001b[1;32m     28\u001b[0m     \u001b[38;5;124mf\u001b[39m\u001b[38;5;124m\"\u001b[39m\u001b[38;5;124msymbol=\u001b[39m\u001b[38;5;132;01m{\u001b[39;00mticker\u001b[38;5;132;01m}\u001b[39;00m\u001b[38;5;124m&\u001b[39m\u001b[38;5;124m\"\u001b[39m\n\u001b[1;32m     29\u001b[0m     \u001b[38;5;124mf\u001b[39m\u001b[38;5;124m\"\u001b[39m\u001b[38;5;124moutputsize=\u001b[39m\u001b[38;5;132;01m{\u001b[39;00moutput_size\u001b[38;5;132;01m}\u001b[39;00m\u001b[38;5;124m&\u001b[39m\u001b[38;5;124m\"\u001b[39m\n\u001b[1;32m     30\u001b[0m     \u001b[38;5;124mf\u001b[39m\u001b[38;5;124m\"\u001b[39m\u001b[38;5;124mdatatype=json&\u001b[39m\u001b[38;5;124m\"\u001b[39m\n\u001b[0;32m---> 31\u001b[0m     \u001b[38;5;124mf\u001b[39m\u001b[38;5;124m\"\u001b[39m\u001b[38;5;124mapikey=\u001b[39m\u001b[38;5;132;01m{\u001b[39;00m\u001b[38;5;28;43mself\u001b[39;49m\u001b[38;5;241;43m.\u001b[39;49m\u001b[43malpha_api_key\u001b[49m\u001b[38;5;132;01m}\u001b[39;00m\u001b[38;5;124m\"\u001b[39m\n\u001b[1;32m     32\u001b[0m )\n\u001b[1;32m     34\u001b[0m \u001b[38;5;66;03m# Send request to api\u001b[39;00m\n\u001b[1;32m     35\u001b[0m response \u001b[38;5;241m=\u001b[39m requests\u001b[38;5;241m.\u001b[39mget(url\u001b[38;5;241m=\u001b[39murl)\n",
      "\u001b[0;31mAttributeError\u001b[0m: 'AlphaVantageAPI' object has no attribute 'alpha_api_key'"
     ]
    }
   ],
   "source": [
    "# Fetch stock data from 'Airbnb' company\n",
    "ticker = \"ABNB\"\n",
    "df_airbnb = av.get_daily(ticker=ticker)\n",
    "\n",
    "# Does 'get daily' method retutn a dataframe\n",
    "assert isinstance(df_airbnb, pd.DataFrame)\n",
    "\n",
    "# Does dataframe have 5 columns\n",
    "assert df_airbnb.shape[1] == 5\n",
    "\n",
    "# Does a dataframe have a datetime index\n",
    "assert isinstance(df_airbnb, pd.DatetimeIndex)\n",
    "\n",
    "# Is the index name \"date\"\n",
    "assert df_airbnb.index.name == \"date\""
   ]
  }
 ],
 "metadata": {
  "kernelspec": {
   "display_name": "Python 3",
   "language": "python",
   "name": "python3"
  },
  "language_info": {
   "codemirror_mode": {
    "name": "ipython",
    "version": 3
   },
   "file_extension": ".py",
   "mimetype": "text/x-python",
   "name": "python",
   "nbconvert_exporter": "python",
   "pygments_lexer": "ipython3",
   "version": "3.10.12"
  }
 },
 "nbformat": 4,
 "nbformat_minor": 2
}
